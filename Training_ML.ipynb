{
 "cells": [
  {
   "cell_type": "code",
   "execution_count": 1,
   "id": "a1443cc3",
   "metadata": {},
   "outputs": [
    {
     "name": "stderr",
     "output_type": "stream",
     "text": [
      "[nltk_data] Downloading package stopwords to C:\\Users\\PRAKASH\n",
      "[nltk_data]     KUMAR\\AppData\\Roaming\\nltk_data...\n",
      "[nltk_data]   Package stopwords is already up-to-date!\n"
     ]
    }
   ],
   "source": [
    "import pandas as pd\n",
    "import nltk\n",
    "nltk.download('stopwords')\n",
    "import re\n",
    "from nltk.corpus import stopwords\n",
    "import matplotlib.pyplot as plt\n",
    "from sklearn.feature_extraction.text import CountVectorizer, TfidfTransformer\n",
    "from sklearn.metrics import classification_report,confusion_matrix\n",
    "from sklearn.metrics import accuracy_score, f1_score, precision_score, recall_score\n",
    "from sklearn.svm import LinearSVC\n",
    "from sklearn.pipeline import Pipeline\n",
    "from sklearn.linear_model import SGDClassifier, LogisticRegression\n",
    "from sklearn.neural_network import MLPClassifier\n",
    "from joblib import dump, load\n",
    "from sklearn.ensemble import GradientBoostingClassifier\n",
    "from sklearn import tree\n",
    "import numpy as np\n",
    "import itertools"
   ]
  },
  {
   "cell_type": "code",
   "execution_count": 2,
   "id": "e9cb377f",
   "metadata": {},
   "outputs": [],
   "source": [
    "def plot_confusion_matrix(cm,\n",
    "                          target_names,\n",
    "                          title='Confusion matrix',\n",
    "                          cmap=None,\n",
    "                          normalize=True):\n",
    "    \"\"\"\n",
    "    given a sklearn confusion matrix (cm), to make a nice plot\n",
    "\n",
    "    Arguments\n",
    "    ---------\n",
    "    cm:           confusion matrix from sklearn.metrics.confusion_matrix\n",
    "\n",
    "    target_names: given classification classes such as [0, 1, 2]\n",
    "                  the class names, for example: ['high', 'medium', 'low']\n",
    "\n",
    "    title:        the text to display at the top of the matrix\n",
    "\n",
    "    cmap:         the gradient of the values displayed from matplotlib.pyplot.cm\n",
    "                  see http://matplotlib.org/examples/color/colormaps_reference.html\n",
    "                  plt.get_cmap('jet') or plt.cm.Blues\n",
    "\n",
    "    normalize:    If False, plot the raw numbers\n",
    "                  If True, plot the proportions\n",
    "\n",
    "    Usage\n",
    "    -----\n",
    "    plot_confusion_matrix(cm           = cm,                  # confusion matrix created by\n",
    "                                                              # sklearn.metrics.confusion_matrix\n",
    "                          normalize    = True,                # show proportions\n",
    "                          target_names = y_labels_vals,       # list of names of the classes\n",
    "                          title        = best_estimator_name) # title of graph\n",
    "\n",
    "    Citiation\n",
    "    ---------\n",
    "    http://scikit-learn.org/stable/auto_examples/model_selection/plot_confusion_matrix.html\n",
    "\n",
    "    \"\"\"\n",
    "\n",
    "    accuracy = np.trace(cm) / float(np.sum(cm))\n",
    "    misclass = 1 - accuracy\n",
    "\n",
    "    if cmap is None:\n",
    "        cmap = plt.get_cmap('Blues')\n",
    "\n",
    "    plt.figure(figsize=(5, 4))\n",
    "    plt.imshow(cm, interpolation='nearest', cmap=cmap)\n",
    "    plt.title(title)\n",
    "    plt.colorbar()\n",
    "\n",
    "    if target_names is not None:\n",
    "        tick_marks = np.arange(len(target_names))\n",
    "        plt.xticks(tick_marks, target_names, rotation=45)\n",
    "        plt.yticks(tick_marks, target_names)\n",
    "\n",
    "    if normalize:\n",
    "        cm = cm.astype('float') / cm.sum(axis=1)[:, np.newaxis]\n",
    "\n",
    "\n",
    "    thresh = cm.max() / 1.5 if normalize else cm.max() / 2\n",
    "    for i, j in itertools.product(range(cm.shape[0]), range(cm.shape[1])):\n",
    "        if normalize:\n",
    "            plt.text(j, i, \"{:0.4f}\".format(cm[i, j]),\n",
    "                     horizontalalignment=\"center\",\n",
    "                     color=\"white\" if cm[i, j] > thresh else \"black\")\n",
    "        else:\n",
    "            plt.text(j, i, \"{:,}\".format(cm[i, j]),\n",
    "                     horizontalalignment=\"center\",\n",
    "                     color=\"white\" if cm[i, j] > thresh else \"black\")\n",
    "\n",
    "\n",
    "    plt.tight_layout()\n",
    "    plt.ylabel('True label')\n",
    "    #plt.xlabel('Predicted label\\naccuracy={:0.4f}; misclass={:0.4f}'.format(accuracy, misclass))\n",
    "    plt.xlabel('Predicted label')\n",
    "    plt.show()\n",
    "    "
   ]
  },
  {
   "cell_type": "code",
   "execution_count": 3,
   "id": "015b343f",
   "metadata": {},
   "outputs": [],
   "source": [
    "stops = set(stopwords.words(\"english\"))\n",
    "def cleantext(string):\n",
    "    text = string.lower().split()\n",
    "    text = \" \".join(text)\n",
    "    text = re.sub(r\"http(\\S)+\",' ',text)    \n",
    "    text = re.sub(r\"www(\\S)+\",' ',text)\n",
    "    text = re.sub(r\"&\",' and ',text)  \n",
    "    tx = text.replace('&amp',' ')\n",
    "    text = re.sub(r\"[^0-9a-zA-Z]+\",' ',text)\n",
    "    text = text.split()\n",
    "    text = [w for w in text if not w in stops]\n",
    "    text = \" \".join(text)\n",
    "    return text"
   ]
  },
  {
   "cell_type": "code",
   "execution_count": 4,
   "id": "a9faa9c0",
   "metadata": {},
   "outputs": [],
   "source": [
    "train = pd.read_excel('./Constraint_Train.xlsx')\n",
    "val = pd.read_excel('./Constraint_Val.xlsx')"
   ]
  },
  {
   "cell_type": "code",
   "execution_count": 5,
   "id": "e7b3250a",
   "metadata": {},
   "outputs": [],
   "source": [
    "train[\"tweet\"] = train[\"tweet\"].map(lambda x: cleantext(x))\n",
    "val[\"tweet\"] = val[\"tweet\"].map(lambda x: cleantext(x))\n",
    "#test['tweet'] = test['tweet'].map(lambda x: cleantext(x))"
   ]
  },
  {
   "cell_type": "code",
   "execution_count": 7,
   "id": "c3555eff",
   "metadata": {},
   "outputs": [],
   "source": [
    "def print_metrices(pred,true):\n",
    "    print(confusion_matrix(true,pred))\n",
    "    print(classification_report(true,pred,))\n",
    "    print(\"Accuracy : \",accuracy_score(pred,true))\n",
    "    print(\"Precison : \",precision_score(pred,true, average = 'weighted'))\n",
    "    print(\"Recall : \",recall_score(pred,true,  average = 'weighted'))\n",
    "    print(\"F1 : \",f1_score(pred,true,  average = 'weighted'))"
   ]
  },
  {
   "cell_type": "code",
   "execution_count": 9,
   "id": "cc28ff7b",
   "metadata": {},
   "outputs": [
    {
     "name": "stdout",
     "output_type": "stream",
     "text": [
      "SVM\n",
      "val:\n",
      "[[ 963   57]\n",
      " [  83 1037]]\n",
      "              precision    recall  f1-score   support\n",
      "\n",
      "        fake       0.92      0.94      0.93      1020\n",
      "        real       0.95      0.93      0.94      1120\n",
      "\n",
      "    accuracy                           0.93      2140\n",
      "   macro avg       0.93      0.94      0.93      2140\n",
      "weighted avg       0.93      0.93      0.93      2140\n",
      "\n",
      "Accuracy :  0.9345794392523364\n",
      "Precison :  0.9348008619335585\n",
      "Recall :  0.9345794392523364\n",
      "F1 :  0.9345519215989282\n"
     ]
    },
    {
     "data": {
      "image/png": "[encoded data removed]",
      "text/plain": [
       "<Figure size 360x288 with 2 Axes>"
      ]
     },
     "metadata": {
      "needs_background": "light"
     },
     "output_type": "display_data"
    }
   ],
   "source": [
    "pipeline = Pipeline([\n",
    "        ('bow', CountVectorizer()),  \n",
    "        ('tfidf', TfidfTransformer()),  \n",
    "        ('c', LinearSVC())\n",
    "    ])\n",
    "fit = pipeline.fit(train['tweet'],train['label'])\n",
    "print('SVM')\n",
    "print ('val:')\n",
    "pred=pipeline.predict(val['tweet'])\n",
    "print_metrices(pred,val['label'])\n",
    "plot_confusion_matrix(confusion_matrix(val['label'],pred),target_names=['fake','real'], normalize = False, \\\n",
    "                      title = 'Confusion matix of SVM on val data')\n",
    "\n",
    "val_ori = pd.read_excel('./Constraint_Val.xlsx')\n",
    "svm_val_misclass_df = val_ori[pred!=val['label']]"
   ]
  },
  {
   "cell_type": "code",
   "execution_count": 10,
   "id": "8abf5140",
   "metadata": {},
   "outputs": [
    {
     "name": "stdout",
     "output_type": "stream",
     "text": [
      "Logistic Regression\n",
      "val:\n",
      "[[ 959   61]\n",
      " [  94 1026]]\n",
      "              precision    recall  f1-score   support\n",
      "\n",
      "        fake       0.91      0.94      0.93      1020\n",
      "        real       0.94      0.92      0.93      1120\n",
      "\n",
      "    accuracy                           0.93      2140\n",
      "   macro avg       0.93      0.93      0.93      2140\n",
      "weighted avg       0.93      0.93      0.93      2140\n",
      "\n",
      "Accuracy :  0.927570093457944\n",
      "Precison :  0.9279421090866252\n",
      "Recall :  0.927570093457944\n",
      "F1 :  0.9275350904769529\n"
     ]
    },
    {
     "data": {
      "image/png": "[encoded data removed]",
      "text/plain": [
       "<Figure size 360x288 with 2 Axes>"
      ]
     },
     "metadata": {
      "needs_background": "light"
     },
     "output_type": "display_data"
    }
   ],
   "source": [
    "pipeline = Pipeline([\n",
    "        ('bow', CountVectorizer()),  \n",
    "        ('tfidf', TfidfTransformer()),  \n",
    "        ('c', LogisticRegression())\n",
    "    ])\n",
    "fit = pipeline.fit(train['tweet'],train['label'])\n",
    "print('Logistic Regression')\n",
    "print ('val:')\n",
    "pred=pipeline.predict(val['tweet'])\n",
    "\n",
    "print_metrices(pred,val['label'])\n",
    "plot_confusion_matrix(confusion_matrix(val['label'],pred),target_names=['fake','real'], normalize = False, \\\n",
    "                      title = 'Confusion matix of LR on val data')"
   ]
  },
  {
   "cell_type": "code",
   "execution_count": 11,
   "id": "466cad96",
   "metadata": {},
   "outputs": [
    {
     "name": "stdout",
     "output_type": "stream",
     "text": [
      "Gradient Boost\n",
      "val:\n",
      "[[921  99]\n",
      " [182 938]]\n",
      "              precision    recall  f1-score   support\n",
      "\n",
      "        fake       0.83      0.90      0.87      1020\n",
      "        real       0.90      0.84      0.87      1120\n",
      "\n",
      "    accuracy                           0.87      2140\n",
      "   macro avg       0.87      0.87      0.87      2140\n",
      "weighted avg       0.87      0.87      0.87      2140\n",
      "\n",
      "Accuracy :  0.8686915887850467\n",
      "Precison :  0.8712297278724574\n",
      "Recall :  0.8686915887850467\n",
      "F1 :  0.8686511293866298\n"
     ]
    },
    {
     "data": {
      "image/png": "[encoded data removed]",
      "text/plain": [
       "<Figure size 360x288 with 2 Axes>"
      ]
     },
     "metadata": {
      "needs_background": "light"
     },
     "output_type": "display_data"
    }
   ],
   "source": [
    "#minor variations in finla results due to randomness\n",
    "pipeline = Pipeline([\n",
    "        ('bow', CountVectorizer()),  \n",
    "        ('tfidf', TfidfTransformer()),  \n",
    "        ('c', GradientBoostingClassifier())\n",
    "    ])\n",
    "fit = pipeline.fit(train['tweet'],train['label'])\n",
    "print('Gradient Boost')\n",
    "print ('val:')\n",
    "pred=pipeline.predict(val['tweet'])\n",
    "\n",
    "print_metrices(pred,val['label'])\n",
    "plot_confusion_matrix(confusion_matrix(val['label'],pred),target_names=['fake','real'], normalize = False, \\\n",
    "                      title = 'Confusion matix of GDBT on val data')"
   ]
  },
  {
   "cell_type": "code",
   "execution_count": null,
   "id": "f0426334",
   "metadata": {},
   "outputs": [],
   "source": []
  }
 ],
 "metadata": {
  "kernelspec": {
   "display_name": "Python 3 (ipykernel)",
   "language": "python",
   "name": "python3"
  },
  "language_info": {
   "codemirror_mode": {
    "name": "ipython",
    "version": 3
   },
   "file_extension": ".py",
   "mimetype": "text/x-python",
   "name": "python",
   "nbconvert_exporter": "python",
   "pygments_lexer": "ipython3",
   "version": "3.9.7"
  }
 },
 "nbformat": 4,
 "nbformat_minor": 5
}
